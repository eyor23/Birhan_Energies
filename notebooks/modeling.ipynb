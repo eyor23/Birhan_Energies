{
 "cells": [
  {
   "cell_type": "code",
   "execution_count": 1,
   "metadata": {},
   "outputs": [],
   "source": [
    "# Importing necessary libraries for EDA\n",
    "\n",
    "import pandas as pd\n",
    "import numpy as np\n",
    "import matplotlib.pyplot as plt\n",
    "import seaborn as sns\n",
    "import warnings\n",
    "warnings.filterwarnings('ignore')\n",
    "from statsmodels.tsa.arima.model import ARIMA\n",
    "from arch import arch_model\n",
    "from sklearn.metrics import mean_squared_error\n",
    "from sklearn.model_selection import TimeSeriesSplit\n",
    "from sklearn.preprocessing import MinMaxScaler\n",
    "from tensorflow.keras.models import Sequential\n",
    "from tensorflow.keras.layers import LSTM, Dense"
   ]
  },
  {
   "cell_type": "code",
   "execution_count": 9,
   "metadata": {},
   "outputs": [],
   "source": [
    "# Loading the data\n",
    "hist_data = pd.read_csv(r'C:\\Users\\user\\Desktop\\Kifiya\\Birhan_Energies\\data\\Brent Oil Futures Historical Data.csv')"
   ]
  },
  {
   "cell_type": "code",
   "execution_count": 10,
   "metadata": {},
   "outputs": [
    {
     "data": {
      "text/html": [
       "<div>\n",
       "<style scoped>\n",
       "    .dataframe tbody tr th:only-of-type {\n",
       "        vertical-align: middle;\n",
       "    }\n",
       "\n",
       "    .dataframe tbody tr th {\n",
       "        vertical-align: top;\n",
       "    }\n",
       "\n",
       "    .dataframe thead th {\n",
       "        text-align: right;\n",
       "    }\n",
       "</style>\n",
       "<table border=\"1\" class=\"dataframe\">\n",
       "  <thead>\n",
       "    <tr style=\"text-align: right;\">\n",
       "      <th></th>\n",
       "      <th>Date</th>\n",
       "      <th>Price</th>\n",
       "      <th>Open</th>\n",
       "      <th>High</th>\n",
       "      <th>Low</th>\n",
       "      <th>Vol.</th>\n",
       "      <th>Change %</th>\n",
       "    </tr>\n",
       "  </thead>\n",
       "  <tbody>\n",
       "    <tr>\n",
       "      <th>0</th>\n",
       "      <td>2019-05-03</td>\n",
       "      <td>70.85</td>\n",
       "      <td>70.48</td>\n",
       "      <td>71.54</td>\n",
       "      <td>69.95</td>\n",
       "      <td>249.81K</td>\n",
       "      <td>0.14%</td>\n",
       "    </tr>\n",
       "    <tr>\n",
       "      <th>1</th>\n",
       "      <td>2019-05-02</td>\n",
       "      <td>70.75</td>\n",
       "      <td>72.00</td>\n",
       "      <td>72.22</td>\n",
       "      <td>69.68</td>\n",
       "      <td>346.63K</td>\n",
       "      <td>-1.98%</td>\n",
       "    </tr>\n",
       "    <tr>\n",
       "      <th>2</th>\n",
       "      <td>2019-05-01</td>\n",
       "      <td>72.18</td>\n",
       "      <td>71.73</td>\n",
       "      <td>72.36</td>\n",
       "      <td>71.30</td>\n",
       "      <td>230.80K</td>\n",
       "      <td>-0.85%</td>\n",
       "    </tr>\n",
       "    <tr>\n",
       "      <th>3</th>\n",
       "      <td>2019-04-30</td>\n",
       "      <td>72.80</td>\n",
       "      <td>71.94</td>\n",
       "      <td>73.27</td>\n",
       "      <td>71.73</td>\n",
       "      <td>25.34K</td>\n",
       "      <td>1.05%</td>\n",
       "    </tr>\n",
       "    <tr>\n",
       "      <th>4</th>\n",
       "      <td>2019-04-29</td>\n",
       "      <td>72.04</td>\n",
       "      <td>71.56</td>\n",
       "      <td>72.50</td>\n",
       "      <td>71.06</td>\n",
       "      <td>147.41K</td>\n",
       "      <td>-0.15%</td>\n",
       "    </tr>\n",
       "  </tbody>\n",
       "</table>\n",
       "</div>"
      ],
      "text/plain": [
       "        Date  Price   Open   High    Low     Vol. Change %\n",
       "0 2019-05-03  70.85  70.48  71.54  69.95  249.81K    0.14%\n",
       "1 2019-05-02  70.75  72.00  72.22  69.68  346.63K   -1.98%\n",
       "2 2019-05-01  72.18  71.73  72.36  71.30  230.80K   -0.85%\n",
       "3 2019-04-30  72.80  71.94  73.27  71.73   25.34K    1.05%\n",
       "4 2019-04-29  72.04  71.56  72.50  71.06  147.41K   -0.15%"
      ]
     },
     "execution_count": 10,
     "metadata": {},
     "output_type": "execute_result"
    }
   ],
   "source": [
    "# Change the date to appropriate format\n",
    "hist_data['Date'] = pd.to_datetime(hist_data['Date'], dayfirst=False, errors='coerce')\n",
    "hist_data.dropna(subset=['Date'], inplace=True)\n",
    "\n",
    "hist_data.head()"
   ]
  },
  {
   "cell_type": "code",
   "execution_count": 11,
   "metadata": {},
   "outputs": [],
   "source": [
    "# Remove commas from Vol. and Change % and convert to numeric\n",
    "\n",
    "hist_data['Vol.'] = hist_data['Vol.'].str.replace('K', '').str.replace(',', '').astype(float) * 1000\n",
    "hist_data['Change %'] = hist_data['Change %'].str.replace('%', '').str.replace(',', '').astype(float) / 100\n",
    "hist_data.dropna(inplace=True)"
   ]
  },
  {
   "cell_type": "code",
   "execution_count": 12,
   "metadata": {},
   "outputs": [],
   "source": [
    "# Winsorize outliers\n",
    "def winsorize(series, limits=(0.01, 0.99)):\n",
    "    low, high = series.quantile(limits)\n",
    "    return series.clip(low, high)\n",
    "hist_data['Change %'] = winsorize(hist_data['Change %'])"
   ]
  },
  {
   "cell_type": "code",
   "execution_count": 13,
   "metadata": {},
   "outputs": [],
   "source": [
    "# Feature Engineering\n",
    "\n",
    "# Calculate daily price range\n",
    "hist_data['Price Range'] = hist_data['High'] - hist_data['Low']\n",
    "\n",
    "# Calculating rolling volatility\n",
    "hist_data['Rolling Vola'] = hist_data['Change %'].rolling(window=30).std()\n",
    "hist_data.dropna(inplace=True)"
   ]
  },
  {
   "cell_type": "code",
   "execution_count": 14,
   "metadata": {},
   "outputs": [],
   "source": [
    "# Set Index to Date and then Reset to integer index.\n",
    "hist_data.set_index('Date', inplace=True)\n",
    "hist_data = hist_data.reset_index(drop=True)"
   ]
  },
  {
   "cell_type": "code",
   "execution_count": 15,
   "metadata": {},
   "outputs": [],
   "source": [
    "# Split data into train and test sets\n",
    "\n",
    "train_size = int (len(hist_data)* 0.8)\n",
    "train, test = hist_data[:train_size], hist_data[train_size:]"
   ]
  },
  {
   "cell_type": "markdown",
   "metadata": {},
   "source": [
    "# Time Series Modeling"
   ]
  },
  {
   "cell_type": "code",
   "execution_count": 16,
   "metadata": {},
   "outputs": [
    {
     "name": "stdout",
     "output_type": "stream",
     "text": [
      "ARIMA RMSE: 0.022647018942320234\n"
     ]
    }
   ],
   "source": [
    "# ARIMA Model\n",
    "\n",
    "model_arima = ARIMA(train['Change %'], order=(5, 0, 1))\n",
    "model_arima_fit = model_arima.fit()\n",
    "predictions_arima = model_arima_fit.predict(start=len(train), end=len(hist_data) - 1)\n",
    "rmse_arima = np.sqrt(mean_squared_error(test['Change %'], predictions_arima))\n",
    "print(f'ARIMA RMSE: {rmse_arima}')"
   ]
  },
  {
   "cell_type": "code",
   "execution_count": 17,
   "metadata": {},
   "outputs": [
    {
     "name": "stdout",
     "output_type": "stream",
     "text": [
      "ARIMAX RMSE: 0.018018802716318658\n"
     ]
    }
   ],
   "source": [
    "# ARIMAX Model (using other features)\n",
    "from sklearn.preprocessing import StandardScaler\n",
    "\n",
    "exog_train = train[['Open', 'High', 'Low', 'Vol.', 'Price Range', 'Rolling Vola']]\n",
    "exog_test = test[['Open', 'High', 'Low', 'Vol.', 'Price Range', 'Rolling Vola']]\n",
    "\n",
    "scaler = StandardScaler()\n",
    "exog_train_scaled = scaler.fit_transform(exog_train)\n",
    "exog_test_scaled = scaler.transform(exog_test)\n",
    "\n",
    "model_arimax = ARIMA(train['Change %'], exog=exog_train_scaled, order=(5, 0, 1))\n",
    "model_arimax_fit = model_arimax.fit(method_kwargs={'maxiter': 200})\n",
    "\n",
    "predictions_arimax = model_arimax_fit.predict(start=len(train), end=len(hist_data) - 1, exog=exog_test_scaled)\n",
    "rmse_arimax = np.sqrt(mean_squared_error(test['Change %'], predictions_arimax))\n",
    "print(f'ARIMAX RMSE: {rmse_arimax}')"
   ]
  },
  {
   "cell_type": "code",
   "execution_count": 18,
   "metadata": {},
   "outputs": [
    {
     "name": "stdout",
     "output_type": "stream",
     "text": [
      "GARCH Volatility RMSE: 0.0007597574804147387\n"
     ]
    }
   ],
   "source": [
    "# GARCH Model (using Change %)\n",
    "model_garch = arch_model(train['Change %'], vol='GARCH', p=1, q=1)\n",
    "model_garch_fit = model_garch.fit(disp='off')\n",
    "forecast_garch = model_garch_fit.forecast(horizon=len(test))\n",
    "variance_garch = forecast_garch.variance.values[-1, :]\n",
    "rmse_garch_volatility = np.sqrt(mean_squared_error(test['Change %']**2, variance_garch))\n",
    "print(f'GARCH Volatility RMSE: {rmse_garch_volatility}')"
   ]
  },
  {
   "cell_type": "code",
   "execution_count": 19,
   "metadata": {},
   "outputs": [
    {
     "name": "stdout",
     "output_type": "stream",
     "text": [
      "\u001b[1m31/31\u001b[0m \u001b[32m━━━━━━━━━━━━━━━━━━━━\u001b[0m\u001b[37m\u001b[0m \u001b[1m0s\u001b[0m 6ms/step\n",
      "LSTM RMSE: 0.022747410405115593\n"
     ]
    }
   ],
   "source": [
    "# LSTM Model (using Change %)\n",
    "scaler_lstm = MinMaxScaler(feature_range=(0, 1))\n",
    "scaled_train_lstm = scaler_lstm.fit_transform(train[['Change %']])\n",
    "scaled_test_lstm = scaler_lstm.transform(test[['Change %']])\n",
    "\n",
    "def create_dataset(dataset, look_back=1):\n",
    "    dataX, dataY = [], []\n",
    "    for i in range(len(dataset) - look_back):\n",
    "        a = dataset[i:(i + look_back), :]\n",
    "        dataX.append(a)\n",
    "        dataY.append(dataset[i + look_back, 0])\n",
    "    return np.array(dataX), np.array(dataY)\n",
    "\n",
    "look_back = 10\n",
    "trainX, trainY = create_dataset(scaled_train_lstm, look_back)\n",
    "testX, testY = create_dataset(scaled_test_lstm, look_back)\n",
    "\n",
    "model_lstm = Sequential()\n",
    "model_lstm.add(LSTM(50, input_shape=(trainX.shape[1], trainX.shape[2])))\n",
    "model_lstm.add(Dense(1))\n",
    "model_lstm.compile(loss='mean_squared_error', optimizer='adam')\n",
    "model_lstm.fit(trainX, trainY, epochs=10, batch_size=32, verbose=0)\n",
    "\n",
    "predictions_lstm = model_lstm.predict(testX)\n",
    "predictions_lstm = scaler_lstm.inverse_transform(np.concatenate((predictions_lstm, np.zeros((len(predictions_lstm), 0))), axis=1))[:, 0]\n",
    "testY_original = scaler_lstm.inverse_transform(np.concatenate((testY.reshape(-1, 1), np.zeros((len(testY), 0))), axis=1))[:, 0]\n",
    "rmse_lstm = np.sqrt(mean_squared_error(testY_original, predictions_lstm))\n",
    "print(f'LSTM RMSE: {rmse_lstm}')"
   ]
  },
  {
   "cell_type": "markdown",
   "metadata": {},
   "source": [
    "# Model Evaluation and Validation"
   ]
  },
  {
   "cell_type": "code",
   "execution_count": null,
   "metadata": {},
   "outputs": [
    {
     "name": "stdout",
     "output_type": "stream",
     "text": [
      "ARIMA RMSE: 0.022647018942320234\n",
      "ARIMAX RMSE: 0.018018802716318658\n",
      "GARCH Volatility RMSE: 0.0007597574804147387\n",
      "LSTM RMSE: 0.022747410405115593\n"
     ]
    }
   ],
   "source": [
    "# Model Comparison\n",
    "print(f'ARIMA RMSE: {rmse_arima}')\n",
    "print(f'ARIMAX RMSE: {rmse_arimax}')\n",
    "print(f'GARCH Volatility RMSE: {rmse_garch_volatility}')\n",
    "print(f'LSTM RMSE: {rmse_lstm}')"
   ]
  },
  {
   "cell_type": "code",
   "execution_count": 21,
   "metadata": {},
   "outputs": [
    {
     "name": "stdout",
     "output_type": "stream",
     "text": [
      "ARIMA Cross-Validation RMSEs: [np.float64(0.017773785195736424), np.float64(0.01703830361694419), np.float64(0.023742158501977903), np.float64(0.020676192629492045), np.float64(0.022748520555507957)]\n",
      "Mean ARIMA Cross-Validation RMSE: 0.020395792099931705\n"
     ]
    }
   ],
   "source": [
    "# Time Series Cross-Validation (ARIMA Example)\n",
    "tscv = TimeSeriesSplit(n_splits=5)\n",
    "rmses_cv = []\n",
    "for train_index, test_index in tscv.split(hist_data['Change %']):\n",
    "    train_cv, test_cv = hist_data['Change %'].iloc[train_index], hist_data['Change %'].iloc[test_index]\n",
    "    model_cv = ARIMA(train_cv, order=(5, 0, 1))\n",
    "    model_cv_fit = model_cv.fit()\n",
    "    predictions_cv = model_cv_fit.predict(start=len(train_cv), end=len(train_cv) + len(test_cv) - 1)\n",
    "    rmse_cv = np.sqrt(mean_squared_error(test_cv, predictions_cv))\n",
    "    rmses_cv.append(rmse_cv)\n",
    "    \n",
    "print(f'ARIMA Cross-Validation RMSEs: {rmses_cv}')\n",
    "print(f'Mean ARIMA Cross-Validation RMSE: {np.mean(rmses_cv)}')"
   ]
  },
  {
   "cell_type": "code",
   "execution_count": 22,
   "metadata": {},
   "outputs": [
    {
     "data": {
      "image/png": "[encoded data removed]",
      "text/plain": [
       "<Figure size 1200x600 with 1 Axes>"
      ]
     },
     "metadata": {},
     "output_type": "display_data"
    }
   ],
   "source": [
    "# Visualization\n",
    "plt.figure(figsize=(12, 6))\n",
    "plt.plot(test['Change %'], label='Actual')\n",
    "plt.plot(predictions_arima, label='ARIMA Predictions')\n",
    "plt.plot(predictions_arimax, label='ARIMAX Predictions')\n",
    "plt.plot(predictions_lstm, label='LSTM Predictions')\n",
    "plt.legend()\n",
    "plt.title('Model Predictions vs. Actual')\n",
    "plt.show()"
   ]
  }
 ],
 "metadata": {
  "kernelspec": {
   "display_name": "birvenv",
   "language": "python",
   "name": "python3"
  },
  "language_info": {
   "codemirror_mode": {
    "name": "ipython",
    "version": 3
   },
   "file_extension": ".py",
   "mimetype": "text/x-python",
   "name": "python",
   "nbconvert_exporter": "python",
   "pygments_lexer": "ipython3",
   "version": "3.12.2"
  }
 },
 "nbformat": 4,
 "nbformat_minor": 2
}
